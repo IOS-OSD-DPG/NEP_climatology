{
 "cells": [
  {
   "cell_type": "code",
   "execution_count": 4,
   "id": "692352d4",
   "metadata": {},
   "outputs": [],
   "source": [
    "using DIVAnd\n",
    "using CSV\n",
    "using NCDatasets\n",
    "using Pkg\n",
    "# using Glob"
   ]
  },
  {
   "cell_type": "code",
   "execution_count": 15,
   "id": "9d7da825",
   "metadata": {},
   "outputs": [
    {
     "name": "stdout",
     "output_type": "stream",
     "text": [
      "[1991, 1992, 1993, 1994, 1995, 1996, 1997, 1998, 1999, 2000, 2001, 2002, 2003, 2004, 2005, 2006, 2007, 2008, 2009, 2010, 2011, 2012, 2013, 2014, 2015, 2016, 2017, 2018, 2019, 2020]\n"
     ]
    },
    {
     "data": {
      "text/plain": [
       "4-element Vector{String}:\n",
       " \"JFM\"\n",
       " \"AMJ\"\n",
       " \"JAS\"\n",
       " \"OND\""
      ]
     },
     "execution_count": 15,
     "metadata": {},
     "output_type": "execute_result"
    }
   ],
   "source": [
    "# Calculate the pmn for 0m for all combinations of year/season\n",
    "# Use these pmns for all other depths\n",
    "mask_dir = string(\"C:\\\\Users\\\\HourstonH\\\\Documents\\\\NEP_climatology\\\\data\\\\\",\n",
    "    \"value_vs_depth\\\\16_diva_analysis\\\\masks\\\\\")\n",
    "\n",
    "years = [1991:1:2020;]\n",
    "println(years)\n",
    "szns = [\"JFM\", \"AMJ\", \"JAS\", \"OND\"]"
   ]
  },
  {
   "cell_type": "code",
   "execution_count": 14,
   "id": "5a85418b",
   "metadata": {},
   "outputs": [
    {
     "name": "stderr",
     "output_type": "stream",
     "text": [
      "\u001b[32m\u001b[1m   Resolving\u001b[22m\u001b[39m package versions...\n",
      "\u001b[32m\u001b[1m  No Changes\u001b[22m\u001b[39m to `C:\\Users\\HourstonH\\.julia\\environments\\v1.6\\Project.toml`\n",
      "\u001b[32m\u001b[1m  No Changes\u001b[22m\u001b[39m to `C:\\Users\\HourstonH\\.julia\\environments\\v1.6\\Manifest.toml`\n"
     ]
    }
   ],
   "source": [
    "for y=years\n",
    "    for s=szns\n",
    "        mask_filename = string(mask_dir, \"\")"
   ]
  },
  {
   "cell_type": "code",
   "execution_count": null,
   "id": "ec6b008e",
   "metadata": {},
   "outputs": [],
   "source": []
  }
 ],
 "metadata": {
  "kernelspec": {
   "display_name": "Julia 1.6.2",
   "language": "julia",
   "name": "julia-1.6"
  },
  "language_info": {
   "file_extension": ".jl",
   "mimetype": "application/julia",
   "name": "julia",
   "version": "1.6.2"
  }
 },
 "nbformat": 4,
 "nbformat_minor": 5
}

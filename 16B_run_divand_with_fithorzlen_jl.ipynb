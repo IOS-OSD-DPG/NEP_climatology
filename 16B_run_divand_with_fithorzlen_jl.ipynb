{
 "cells": [
  {
   "cell_type": "markdown",
   "id": "239cc366",
   "metadata": {},
   "source": [
    "Run the DIVAnd analysis, using DIVAnd fithorzlen() to estimate the correlation length input parameters from the observations. Use the domain of the observations as the input domain for the analysis (not the domain of the mask)."
   ]
  },
  {
   "cell_type": "code",
   "execution_count": 1,
   "id": "357040f7",
   "metadata": {},
   "outputs": [],
   "source": [
    "using DIVAnd\n",
    "using CSV\n",
    "using NCDatasets\n",
    "using DataFrames\n",
    "using Statistics"
   ]
  },
  {
   "cell_type": "code",
   "execution_count": 2,
   "id": "4d4f837c",
   "metadata": {},
   "outputs": [
    {
     "data": {
      "text/plain": [
       "\"C:\\\\Users\\\\HourstonH\\\\Documents\\\\NEP_climatology\\\\diva_explore\\\\correlation_length\\\\\""
      ]
     },
     "execution_count": 2,
     "metadata": {},
     "output_type": "execute_result"
    }
   ],
   "source": [
    "# To run in command prompt or something\n",
    "# julia compute_DIVAnd_pmn.jl\n",
    "\n",
    "var_name = \"Oxy\"\n",
    "standard_depth = 0\n",
    "year = 2004\n",
    "szn = \"AMJ\"\n",
    "# subsamp_interval = 1\n",
    "\n",
    "# Paths for windows\n",
    "obs_dir = string(\"C:\\\\Users\\\\HourstonH\\\\Documents\\\\NEP_climatology\\\\data\\\\\",\n",
    "    \"value_vs_depth\\\\14_sep_by_sl_and_year\\\\\")\n",
    "\n",
    "mask_dir = string(\"C:\\\\Users\\\\HourstonH\\\\Documents\\\\NEP_climatology\\\\data\\\\\",\n",
    "    \"value_vs_depth\\\\16_diva_analysis\\\\masks\\\\\")\n",
    "\n",
    "pmn_dir = string(\"C:\\\\Users\\\\HourstonH\\\\Documents\\\\NEP_climatology\\\\data\\\\\",\n",
    "    \"value_vs_depth\\\\16_diva_analysis\\\\pmn\\\\\")\n",
    "\n",
    "output_dir = string(\"C:\\\\Users\\\\HourstonH\\\\Documents\\\\NEP_climatology\\\\data\\\\\",\n",
    "    \"value_vs_depth\\\\16_diva_analysis\\\\analysis\\\\\")\n",
    "\n",
    "fitcor_dir = string(\"C:\\\\Users\\\\HourstonH\\\\Documents\\\\NEP_climatology\\\\\",\n",
    "    \"diva_explore\\\\correlation_length\\\\\")\n",
    "\n",
    "# # Paths for Linux:\n",
    "# obs_dir = string(\"/home/hourstonh/Documents/climatology/data/\",\n",
    "#     \"value_vs_depth/14_sep_by_sl_and_year/\")\n",
    "\n",
    "# mask_dir = string(\"/home/hourstonh/Documents/climatology/data/\",\n",
    "#     \"value_vs_depth/16_diva_analysis/masks/\")\n",
    "\n",
    "# pmn_dir = string(\"/home/hourstonh/Documents/climatology/data/\",\n",
    "#     \"value_vs_depth/16_diva_analysis/pmn/\")\n",
    "\n",
    "# fitcor_dir = \"/home/hourstonh/Documents/climatology/diva_explore/correlation_length/\"\n",
    "\n",
    "# years = [1991:1:2020;]\n",
    "# println(years)\n",
    "# szns = [\"JFM\", \"AMJ\", \"JAS\", \"OND\"]"
   ]
  },
  {
   "cell_type": "code",
   "execution_count": 3,
   "id": "77ec2e38",
   "metadata": {},
   "outputs": [
    {
     "name": "stdout",
     "output_type": "stream",
     "text": [
      "C:\\Users\\HourstonH\\Documents\\NEP_climatology\\data\\value_vs_depth\\14_sep_by_sl_and_year\\Oxy_0m_2004_AMJ.csv\n"
     ]
    }
   ],
   "source": [
    "# Open the required files\n",
    "\n",
    "# Read in standard level data file\n",
    "obs_filename = string(obs_dir, var_name, \"_\", standard_depth, \"m_\", year, \n",
    "    \"_\", szn, \".csv\")\n",
    "    \n",
    "println(obs_filename)\n",
    "    \n",
    "# Pipe operator to dataframe\n",
    "obs_df = CSV.File(obs_filename) |> DataFrame\n",
    "    \n",
    "if size(obs_df)[1] == 0\n",
    "    println(\"DataFrame empty -- skip\")\n",
    "end\n",
    "\n",
    "# Convert values from Float64 to Float32 in an effort to avoid memory errors\n",
    "xobs = convert(Array{Float32}, obs_df[!, :Longitude])\n",
    "yobs = convert(Array{Float32}, obs_df[!, :Latitude])\n",
    "vobs = obs_df[!, :SL_value]\n",
    "\n",
    "# Compute anomaly field\n",
    "vmean = mean(vobs)\n",
    "vanom = convert(Array{Float32}, vobs .- vmean);"
   ]
  },
  {
   "cell_type": "code",
   "execution_count": 4,
   "id": "cdb2a48f",
   "metadata": {},
   "outputs": [
    {
     "data": {
      "text/plain": [
       "1.0066639"
      ]
     },
     "execution_count": 4,
     "metadata": {},
     "output_type": "execute_result"
    }
   ],
   "source": [
    "# Set correlation length from fithorzlen\n",
    "\n",
    "fitcor_filename = string(fitcor_dir, \"Oxy_fithorzlen_mean_lenxy_100m.csv\")\n",
    "\n",
    "fitcor_df = CSV.File(fitcor_filename) |> DataFrame\n",
    "\n",
    "year_rownum = year - 1990\n",
    "fitcor_lenxy = fitcor_df[year_rownum, szn]"
   ]
  },
  {
   "cell_type": "code",
   "execution_count": 5,
   "id": "548fb702",
   "metadata": {},
   "outputs": [
    {
     "data": {
      "text/plain": [
       "(Float32[-159.99791 -159.99791 … -159.99791 -159.99791; -159.99374 -159.99374 … -159.99374 -159.99374; … ; -115.00625 -115.00625 … -115.00625 -115.00625; -115.00208 -115.00208 … -115.00208 -115.00208], Float32[30.002083 30.00625 … 59.99375 59.997917; 30.002083 30.00625 … 59.99375 59.997917; … ; 30.002083 30.00625 … 59.99375 59.997917; 30.002083 30.00625 … 59.99375 59.997917])"
      ]
     },
     "execution_count": 5,
     "metadata": {},
     "output_type": "execute_result"
    }
   ],
   "source": [
    "# Read in mask\n",
    "mask_filename = string(mask_dir, var_name, \"_\", standard_depth, \"m_\", \n",
    "    year, \"_\", szn, \"_mask_6min.nc\")\n",
    "    \n",
    "mask_ds = Dataset(mask_filename)\n",
    "    \n",
    "mask = mask_ds[\"mask\"][:,:]  # [1:subsamp_interval:end, 1:subsamp_interval:end]\n",
    "mask = Bool.(mask)\n",
    "#     println(typeof(mask))\n",
    "\n",
    "# Open the pmn netCDF file\n",
    "pmn_filename = string(pmn_dir, \"divand_pmn_for_mask_6min.nc\")\n",
    "\n",
    "pmn_ds = Dataset(pmn_filename)\n",
    "\n",
    "# Get the inverse of the resolution of the grid\n",
    "pm = convert(Array{Float32}, pmn_ds[\"pm\"][:,:])\n",
    "pn = convert(Array{Float32}, pmn_ds[\"pn\"][:,:])\n",
    "\n",
    "# Get the 2d mesh grid longitude and latitude\n",
    "Lon1d = convert(Array{Float32}, mask_ds[\"lon\"][:])\n",
    "Lat1d = convert(Array{Float32}, mask_ds[\"lat\"][:])\n",
    "Lon2d, Lat2d = ndgrid(Lon1d, Lat1d)"
   ]
  },
  {
   "cell_type": "code",
   "execution_count": 6,
   "id": "97b0a47c",
   "metadata": {},
   "outputs": [
    {
     "data": {
      "text/plain": [
       "closed NetCDF NCDataset"
      ]
     },
     "execution_count": 6,
     "metadata": {},
     "output_type": "execute_result"
    }
   ],
   "source": [
    "close(mask_ds)\n",
    "close(pmn_ds)"
   ]
  },
  {
   "cell_type": "code",
   "execution_count": 7,
   "id": "999381b3",
   "metadata": {},
   "outputs": [
    {
     "data": {
      "text/plain": [
       "3"
      ]
     },
     "execution_count": 7,
     "metadata": {},
     "output_type": "execute_result"
    }
   ],
   "source": [
    "# Set some more parameters\n",
    "\n",
    "signal_to_noise_ratio = 50.  # Default from Lu ODV session\n",
    "epsilon2_guess = 1/signal_to_noise_ratio  # 1.\n",
    "\n",
    "# Choose number of testing points around the current value of L (corlen)\n",
    "nl = 1\n",
    "\n",
    "# Choose number of testing points around the current value of epsilon2\n",
    "ne = 1\n",
    "\n",
    "# Choose cross-validation method\n",
    "# 1: full CV; 2: sampled CV; 3: GCV; 0: automatic choice between the three\n",
    "method = 3"
   ]
  },
  {
   "cell_type": "code",
   "execution_count": 8,
   "id": "73f154fa",
   "metadata": {},
   "outputs": [
    {
     "ename": "LoadError",
     "evalue": "TypeError: in typeassert, expected Matrix{Float32}, got a value of type Matrix{Float64}",
     "output_type": "error",
     "traceback": [
      "TypeError: in typeassert, expected Matrix{Float32}, got a value of type Matrix{Float64}",
      "",
      "Stacktrace:",
      " [1] DIVAnd_obs(s::DIVAnd.DIVAnd_struct{Float64, Int64, 2, SparseArrays.SparseMatrixCSC{Float64, Int64}}, xi::Tuple{Matrix{Float32}, Matrix{Float32}}, x::Tuple{Vector{Float32}, Vector{Float32}}, yo::Vector{Float32}, R::LinearAlgebra.Diagonal{Float64, Vector{Float64}}, I::Matrix{Float32})",
      "   @ DIVAnd C:\\Users\\HourstonH\\.julia\\packages\\DIVAnd\\eDBbE\\src\\DIVAnd_obs.jl:27",
      " [2] DIVAndrun(operatortype::Type, mask::BitMatrix, pmnin::Tuple{Matrix{Float32}, Matrix{Float32}}, xiin::Tuple{Matrix{Float32}, Matrix{Float32}}, x::Tuple{Vector{Float32}, Vector{Float32}}, f::Vector{Float32}, lin::Tuple{Float64, Float64}, epsilon2::Float64; velocity::Tuple{}, primal::Bool, factorize::Bool, tol::Float64, maxit::Int64, minit::Int64, constraints::Tuple{}, inversion::Symbol, moddim::Vector{Any}, fracindex::Matrix{Float32}, alpha::Vector{Any}, keepLanczosVectors::Int64, compPC::typeof(DIVAnd_pc_none), progress::DIVAnd.var\"#275#277\", fi0::Matrix{Float64}, f0::Vector{Float64}, alphabc::Float64, scale_len::Bool, btrunc::Vector{Any}, MEMTOFIT::Float64, topographyforfluxes::Tuple{}, fluxes::Tuple{}, epsfluxes::Int64, epsilon2forfractions::Int64, RTIMESONESCALES::Tuple{}, QCMETHOD::Tuple{}, coeff_laplacian::Vector{Float64}, coeff_derivative2::Vector{Float64}, mean_Labs::Nothing)",
      "   @ DIVAnd C:\\Users\\HourstonH\\.julia\\packages\\DIVAnd\\eDBbE\\src\\DIVAndrun.jl:86",
      " [3] DIVAndrun(operatortype::Type, mask::BitMatrix, pmnin::Tuple{Matrix{Float32}, Matrix{Float32}}, xiin::Tuple{Matrix{Float32}, Matrix{Float32}}, x::Tuple{Vector{Float32}, Vector{Float32}}, f::Vector{Float32}, lin::Tuple{Float64, Float64}, epsilon2::Float64)",
      "   @ DIVAnd C:\\Users\\HourstonH\\.julia\\packages\\DIVAnd\\eDBbE\\src\\DIVAndrun.jl:45",
      " [4] DIVAndrun(mask::BitMatrix, pmnin::Tuple{Matrix{Float32}, Matrix{Float32}}, xiin::Tuple{Matrix{Float32}, Matrix{Float32}}, x::Tuple{Vector{Float32}, Vector{Float32}}, f::Vector{Float32}, lin::Tuple{Float64, Float64}, epsilon2::Float64; operatortype::Type, kwargs::Base.Iterators.Pairs{Union{}, Union{}, Tuple{}, NamedTuple{(), Tuple{}}})",
      "   @ DIVAnd C:\\Users\\HourstonH\\.julia\\packages\\DIVAnd\\eDBbE\\src\\DIVAndrun.jl:298",
      " [5] DIVAndrun(mask::BitMatrix, pmnin::Tuple{Matrix{Float32}, Matrix{Float32}}, xiin::Tuple{Matrix{Float32}, Matrix{Float32}}, x::Tuple{Vector{Float32}, Vector{Float32}}, f::Vector{Float32}, lin::Tuple{Float64, Float64}, epsilon2::Float64)",
      "   @ DIVAnd C:\\Users\\HourstonH\\.julia\\packages\\DIVAnd\\eDBbE\\src\\DIVAndrun.jl:298",
      " [6] DIVAndrunfi(::BitMatrix, ::Vararg{Any, N} where N)",
      "   @ DIVAnd C:\\Users\\HourstonH\\.julia\\packages\\DIVAnd\\eDBbE\\src\\DIVAndrun.jl:157",
      " [7] top-level scope",
      "   @ In[8]:2",
      " [8] eval",
      "   @ .\\boot.jl:360 [inlined]",
      " [9] include_string(mapexpr::typeof(REPL.softscope), mod::Module, code::String, filename::String)",
      "   @ Base .\\loading.jl:1116"
     ]
    }
   ],
   "source": [
    "# Run the analysis\n",
    "va = DIVAndrunfi(mask, (pm, pn), (Lon2d, Lat2d), (xobs, yobs), vanom,\n",
    "                 (fitcor_lenxy, fitcor_lenxy), epsilon2_guess)\n",
    "\n",
    "# Add the output anomaly back to the mean of the observations\n",
    "vout = vmean .+ va"
   ]
  },
  {
   "cell_type": "code",
   "execution_count": null,
   "id": "c9a248de",
   "metadata": {},
   "outputs": [],
   "source": [
    "# Export vout as a netCDF file in the same dims as the mask\n",
    "vout_filename = string(output_dir, var_name, \"_\", standard_depth, \"m_\",\n",
    "    year, \"_\", szn, \"_analysis2d.nc\")\n",
    "\n",
    "vout_ds = Dataset(vout_filename, \"c\")"
   ]
  },
  {
   "cell_type": "code",
   "execution_count": null,
   "id": "39dc7d1a",
   "metadata": {},
   "outputs": [],
   "source": [
    "# Define lat and lon dims\n",
    "lon_dim_vout = defDim(vout_ds, \"lon\", length(Lon1d))\n",
    "lat_dim_vout = defDim(vout_ds, \"lat\", length(Lat1d))\n",
    "\n",
    "# Add lon and lat vars if can't add data to dims\n",
    "lon_var = defVar(vout_ds, \"longitude\", Float32, (\"lon\",))\n",
    "lat_var = defVar(vout_ds, \"latitude\", Float32, (\"lat\",))\n",
    "\n",
    "lon_var[:] = convert(Array{Float32}, mask_ds[\"lat\"][:])\n",
    "lat_var[:] = convert(Array{Float32}, mask_ds[\"lat\"][:])\n",
    "\n",
    "vout_var = defVar(vout_ds, \"vout\", Float32, (\"lon\", \"lat\"))\n",
    "vout_var[:,:] = vout\n",
    "\n",
    "println(vout_ds)"
   ]
  },
  {
   "cell_type": "code",
   "execution_count": null,
   "id": "ea5708d8",
   "metadata": {},
   "outputs": [],
   "source": [
    "close(vout_ds)"
   ]
  },
  {
   "cell_type": "markdown",
   "id": "23afc2b2",
   "metadata": {},
   "source": [
    "## Experimentation below..."
   ]
  },
  {
   "cell_type": "code",
   "execution_count": null,
   "id": "9b4c535d",
   "metadata": {},
   "outputs": [],
   "source": [
    "# Examine netCDF file in \"read only\" mode\n",
    "# nc = Dataset(vout_filename, \"r\")"
   ]
  },
  {
   "cell_type": "code",
   "execution_count": null,
   "id": "f2c9f197",
   "metadata": {},
   "outputs": [],
   "source": [
    "# Experiment with rounding vs convert to Float32\n",
    "\n",
    "# println(vanom[1:5])\n",
    "\n",
    "# x1 = [round(x, digits=7) for x=vanom[1:5]]\n",
    "# println(x1)\n",
    "\n",
    "# x2 = convert(Array{Float32}, x1)\n",
    "# println(x2)"
   ]
  },
  {
   "cell_type": "code",
   "execution_count": null,
   "id": "6878bb01",
   "metadata": {},
   "outputs": [],
   "source": [
    "# # Run the cross-validation\n",
    "# bestfactorl, bestfactore, cvval, cvvalues, x2Ddata, y2Ddata, cvinter, xi2D, yi2D = DIVAnd_cv(\n",
    "#     mask, (pm, pn), (Lon2d, Lat2d), (xobs, yobs), vanom, (fitcor_lenxy, fitcor_lenxy), \n",
    "#     epsilon2_guess, nl, ne, method)"
   ]
  },
  {
   "cell_type": "code",
   "execution_count": null,
   "id": "91b41df0",
   "metadata": {},
   "outputs": [],
   "source": [
    "# # Apply factors to guesses\n",
    "# new_lenx = bestfactorl .* lenx_guess\n",
    "# new_leny = bestfactorl .* leny_guess\n",
    "# new_epsilon2 = bestfactore .* epsilon2_guess\n",
    "\n",
    "# old_params = [lenx_guess, leny_guess, epsilon2_guess]\n",
    "# new_params = [new_lenx, new_leny, new_epsilon2]\n",
    "\n",
    "# for i=[1,2,3]\n",
    "#     println(\"lenx:\", old_params[i], \"->\", new_params[i])\n",
    "# end"
   ]
  }
 ],
 "metadata": {
  "kernelspec": {
   "display_name": "Julia 1.6.2",
   "language": "julia",
   "name": "julia-1.6"
  },
  "language_info": {
   "file_extension": ".jl",
   "mimetype": "application/julia",
   "name": "julia",
   "version": "1.6.2"
  }
 },
 "nbformat": 4,
 "nbformat_minor": 5
}

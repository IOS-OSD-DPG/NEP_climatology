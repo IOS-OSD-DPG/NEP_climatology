{
 "cells": [
  {
   "cell_type": "markdown",
   "id": "3f870fb5",
   "metadata": {},
   "source": [
    "Run the DIVAnd analysis, using DIVAnd cross-validation to estimate the correlation length and epsilon2 input parameters. Use the domain of the observations as the input domain (not the domain of the mask)."
   ]
  },
  {
   "cell_type": "code",
   "execution_count": 8,
   "id": "2e447a27",
   "metadata": {},
   "outputs": [],
   "source": [
    "using DIVAnd\n",
    "using CSV\n",
    "using NCDatasets\n",
    "using DataFrames\n",
    "using Statistics\n",
    "using BenchmarkTools"
   ]
  },
  {
   "cell_type": "code",
   "execution_count": 2,
   "id": "79381426",
   "metadata": {},
   "outputs": [
    {
     "data": {
      "text/plain": [
       "\"C:\\\\Users\\\\HourstonH\\\\Documents\\\\NEP_climatology\\\\data\\\\value_vs_depth\\\\16_diva_analysis\\\\\""
      ]
     },
     "execution_count": 2,
     "metadata": {},
     "output_type": "execute_result"
    }
   ],
   "source": [
    "# To run in command prompt or something\n",
    "# julia compute_DIVAnd_pmn.jl\n",
    "\n",
    "var_name = \"Oxy\"\n",
    "standard_depth = 0\n",
    "year = 2010\n",
    "szn = \"OND\"\n",
    "# subsamp_interval = 1\n",
    "\n",
    "obs_dir = string(\"C:\\\\Users\\\\HourstonH\\\\Documents\\\\NEP_climatology\\\\data\\\\\",\n",
    "    \"value_vs_depth\\\\14_sep_by_sl_and_year\\\\\")\n",
    "\n",
    "mask_dir = string(\"C:\\\\Users\\\\HourstonH\\\\Documents\\\\NEP_climatology\\\\data\\\\\",\n",
    "    \"value_vs_depth\\\\16_diva_analysis\\\\masks\\\\\")\n",
    "\n",
    "pmn_dir = string(\"C:\\\\Users\\\\HourstonH\\\\Documents\\\\NEP_climatology\\\\data\\\\\",\n",
    "    \"value_vs_depth\\\\16_diva_analysis\\\\pmn\\\\\")\n",
    "\n",
    "output_dir = string(\"C:\\\\Users\\\\HourstonH\\\\Documents\\\\NEP_climatology\\\\data\\\\\",\n",
    "    \"value_vs_depth\\\\16_diva_analysis\\\\\")\n",
    "\n",
    "# years = [1991:1:2020;]\n",
    "# println(years)\n",
    "# szns = [\"JFM\", \"AMJ\", \"JAS\", \"OND\"]"
   ]
  },
  {
   "cell_type": "code",
   "execution_count": 3,
   "id": "42363860",
   "metadata": {},
   "outputs": [
    {
     "name": "stdout",
     "output_type": "stream",
     "text": [
      "C:\\Users\\HourstonH\\Documents\\NEP_climatology\\data\\value_vs_depth\\14_sep_by_sl_and_year\\Oxy_0m_2010_OND.csv\n",
      "1.6538494 19.0285664\n"
     ]
    }
   ],
   "source": [
    "# Open the required files\n",
    "\n",
    "# Read in standard level data file\n",
    "obs_filename = string(obs_dir, var_name, \"_\", standard_depth, \"m_\", year, \n",
    "    \"_\", szn, \".csv\")\n",
    "    \n",
    "println(obs_filename)\n",
    "    \n",
    "# Pipe operator to dataframe\n",
    "obs_df = CSV.File(obs_filename) |> DataFrame\n",
    "    \n",
    "if size(obs_df)[1] == 0\n",
    "    println(\"DataFrame empty -- skipping\")\n",
    "end\n",
    "    \n",
    "xobs = obs_df[!, :Longitude]\n",
    "yobs = obs_df[!, :Latitude]\n",
    "vobs = obs_df[!, :SL_value]\n",
    "\n",
    "# Compute anomaly field\n",
    "vmean = mean(vobs)\n",
    "vanom = vobs .- vmean\n",
    "    \n",
    "# Calculate domain size based on the observations\n",
    "# Set first guesses for correlation length as 1/10 domain size\n",
    "domain_size_x_deg = maximum(xobs) - minimum(xobs)\n",
    "domain_size_y_deg = maximum(yobs) - minimum(xobs)\n",
    "lenx_guess = domain_size_x_deg/10\n",
    "leny_guess = domain_size_y_deg/10\n",
    "\n",
    "println(lenx_guess, \" \", leny_guess)"
   ]
  },
  {
   "cell_type": "code",
   "execution_count": 19,
   "id": "43baa5b4",
   "metadata": {},
   "outputs": [
    {
     "data": {
      "text/plain": [
       "closed NetCDF NCDataset"
      ]
     },
     "execution_count": 19,
     "metadata": {},
     "output_type": "execute_result"
    }
   ],
   "source": [
    "# Read in mask\n",
    "mask_filename = string(mask_dir, var_name, \"_\", standard_depth, \"m_\", \n",
    "    year, \"_\", szn, \"_mask_6min.nc\")\n",
    "    \n",
    "mask_ds = Dataset(mask_filename)\n",
    "    \n",
    "mask = mask_ds[\"mask\"][:,:]  # [1:subsamp_interval:end, 1:subsamp_interval:end]\n",
    "mask = Bool.(mask)\n",
    "# println(typeof(mask))\n",
    "\n",
    "# Open the pmn netCDF file\n",
    "pmn_filename = string(pmn_dir, \"divand_pmn_for_mask_6min_v3.nc\")\n",
    "\n",
    "pmn_ds = Dataset(pmn_filename)\n",
    "\n",
    "# Get the inverse of the resolution of the grid\n",
    "# need to convert from Matrix{Union{Missing, Float64}} to Matrix{Float64}\n",
    "pm = convert(Array{Float64}, pmn_ds[\"pm\"][:,:])\n",
    "pn = convert(Array{Float64}, pmn_ds[\"pn\"][:,:])\n",
    "\n",
    "# Get the 2d mesh grid longitude and latitude\n",
    "# Could have been made from pmn lon lat or mask lon lat\n",
    "Lon2d, Lat2d = ndgrid(mask_ds[\"lon\"][:], mask_ds[\"lat\"][:])\n",
    "\n",
    "close(mask_ds)\n",
    "close(pmn_ds)"
   ]
  },
  {
   "cell_type": "code",
   "execution_count": 20,
   "id": "7fd38ba6",
   "metadata": {
    "scrolled": true
   },
   "outputs": [
    {
     "name": "stdout",
     "output_type": "stream",
     "text": [
      "0.0024923218319040544 0.004316465727327514\n",
      "0.0021583687823886737 0.0021583688291264883\n",
      "BitMatrix\n",
      "Matrix{Float64}\n",
      "Matrix{Float64}\n"
     ]
    }
   ],
   "source": [
    "# Lon2d\n",
    "println(minimum(pm), \" \", maximum(pm))\n",
    "println(minimum(pn), \" \", maximum(pn))\n",
    "println(typeof(mask))\n",
    "println(typeof(pm))\n",
    "println(typeof(Lon2d))"
   ]
  },
  {
   "cell_type": "code",
   "execution_count": 6,
   "id": "09f383aa",
   "metadata": {},
   "outputs": [
    {
     "data": {
      "text/plain": [
       "3"
      ]
     },
     "execution_count": 6,
     "metadata": {},
     "output_type": "execute_result"
    }
   ],
   "source": [
    "# Set some more parameters\n",
    "\n",
    "signal_to_noise_ratio = 50.  # Default from Lu ODV session\n",
    "epsilon2_guess = 1/signal_to_noise_ratio\n",
    "\n",
    "# Choose number of testing points around the current value of L (corlen)\n",
    "nl = 1\n",
    "\n",
    "# Choose number of testing points around the current value of epsilon2\n",
    "ne = 1\n",
    "\n",
    "# Choose cross-validation method\n",
    "# 1: full CV; 2: sampled CV; 3: GCV; 0: automatic choice between the three\n",
    "method = 3"
   ]
  },
  {
   "cell_type": "code",
   "execution_count": null,
   "id": "a808a916",
   "metadata": {},
   "outputs": [],
   "source": [
    "# Run the cross-validation\n",
    "bestfactorl, bestfactore, cvval, cvvalues, x2Ddata, y2Ddata, cvinter, xi2D, yi2D = DIVAnd_cv(\n",
    "    mask, (pm, pn), (Lon2d, Lat2d), (xobs, yobs), vanom, (lenx_guess, leny_guess), \n",
    "    epsilon2_guess, nl, ne, method)"
   ]
  },
  {
   "cell_type": "code",
   "execution_count": null,
   "id": "409ebb16",
   "metadata": {},
   "outputs": [],
   "source": [
    "# Apply the correction factors\n",
    "new_lenx = bestfactorl * lenx_guess\n",
    "new_leny = bestfactorl * leny_guess\n",
    "new_epsilon2 = bestfactore * epsilon2_guess\n",
    "\n",
    "old_params = [lenx_guess, leny_guess, epsilon2_guess]\n",
    "new_params = [new_lenx, new_leny, new_epsilon2]\n",
    "\n",
    "for i=[1,2,3]\n",
    "    println(\"lenx:\", old_params[i], \"->\", new_params[i])\n",
    "end"
   ]
  },
  {
   "cell_type": "code",
   "execution_count": null,
   "id": "2c1c3590",
   "metadata": {},
   "outputs": [],
   "source": [
    "# Run the analysis\n",
    "# va = DIVAndrunfi(bool_mask, (pm, pn), (Lon, Lat), (xobs, yobs), vanom,\n",
    "#                  (new_lenx, new_leny), new_epsilon2)\n",
    "\n",
    "va = DIVAndrunfi(mask, (pm, pn), (Lon2d, Lat2d), (xobs, yobs), vanom,\n",
    "                 (lenx_guess, lenx_guess), epsilon2_guess)\n",
    "\n",
    "# Add the output anomaly back to the mean of the observations\n",
    "vout = vmean .+ va"
   ]
  },
  {
   "cell_type": "code",
   "execution_count": null,
   "id": "f1296c32",
   "metadata": {},
   "outputs": [],
   "source": [
    "# Export vout as a netCDF file in the same dims as the mask\n",
    "vout_filename = string(output_dir, var_name, \"_\", standard_depth, \"m_\",\n",
    "    year, \"_\", szn, \"_analysis2d_guess.nc\")\n",
    "\n",
    "vout_ds = Dataset(vout_filename, \"c\")\n",
    "\n",
    "# Define lat and lon dims\n",
    "lon_dim_vout = defDim(vout_ds, \"lon\", length(vout[:,1]))\n",
    "lat_dim_vout = defDim(vout_ds, \"lat\", length(vout[1,:]))"
   ]
  },
  {
   "cell_type": "code",
   "execution_count": null,
   "id": "921177c4",
   "metadata": {},
   "outputs": [],
   "source": [
    "vout_var = defVar(vout_ds, \"vout\", Float64, (\"lon\", \"lat\"))\n",
    "vout_var[:,:] = vout\n",
    "\n",
    "println(vout_ds)"
   ]
  },
  {
   "cell_type": "code",
   "execution_count": null,
   "id": "e7953ae4",
   "metadata": {},
   "outputs": [],
   "source": [
    "close(vout_ds)"
   ]
  },
  {
   "cell_type": "code",
   "execution_count": 9,
   "id": "4b273198",
   "metadata": {},
   "outputs": [
    {
     "name": "stdout",
     "output_type": "stream",
     "text": [
      "  35.448 ns (1 allocation: 128 bytes)\n"
     ]
    },
    {
     "data": {
      "text/plain": [
       "3.0"
      ]
     },
     "execution_count": 9,
     "metadata": {},
     "output_type": "execute_result"
    }
   ],
   "source": [
    "@btime mean([1,2,3,4,5])"
   ]
  },
  {
   "cell_type": "code",
   "execution_count": 11,
   "id": "2b769b68",
   "metadata": {},
   "outputs": [
    {
     "data": {
      "text/plain": [
       "([0.0024923218319040544 0.0024924265561150263 … 0.0024936842772158864 0.0024937891732726776; 0.0024923219353162737 0.002492426607209966 … 0.0024936842759809286 0.0024937892244541664; … ; 0.0024923219353162737 0.002492426607209966 … 0.0024936842759809286 0.0024937892244541664; 0.0024923218319040544 0.0024924265561150263 … 0.0024936842772158864 0.0024937891732726776], [0.0021583688291264883 0.002158368805044173 … 0.002158368805044173 0.00215836878381549; 0.0021583688291264883 0.002158368805044173 … 0.002158368805044173 0.00215836878381549; … ; 0.0021583688291264883 0.002158368805044173 … 0.002158368805044173 0.00215836878381549; 0.0021583688291264883 0.002158368805044173 … 0.002158368805044173 0.00215836878381549])"
      ]
     },
     "execution_count": 11,
     "metadata": {},
     "output_type": "execute_result"
    }
   ],
   "source": [
    "lon_subset = Lon2d[1:10, 1:15]\n",
    "lat_subset = Lat2d[1:10, 1:15]\n",
    "\n",
    "pm_subset, pn_subset = DIVAnd_metric(lon_subset, lat_subset)"
   ]
  },
  {
   "cell_type": "code",
   "execution_count": 13,
   "id": "14f36f03",
   "metadata": {},
   "outputs": [
    {
     "data": {
      "text/plain": [
       "Matrix{Float64} (alias for Array{Float64, 2})"
      ]
     },
     "execution_count": 13,
     "metadata": {},
     "output_type": "execute_result"
    }
   ],
   "source": [
    "pm_subset\n",
    "\n",
    "typeof(pm_subset)"
   ]
  },
  {
   "cell_type": "code",
   "execution_count": 14,
   "id": "110e92b4",
   "metadata": {},
   "outputs": [
    {
     "data": {
      "text/plain": [
       "10×15 Matrix{Union{Missing, Float64}}:\n",
       " 0.00215837  0.00215837  0.00215837  …  0.00215837  0.00215837  0.00215837\n",
       " 0.00215837  0.00215837  0.00215837     0.00215837  0.00215837  0.00215837\n",
       " 0.00215837  0.00215837  0.00215837     0.00215837  0.00215837  0.00215837\n",
       " 0.00215837  0.00215837  0.00215837     0.00215837  0.00215837  0.00215837\n",
       " 0.00215837  0.00215837  0.00215837     0.00215837  0.00215837  0.00215837\n",
       " 0.00215837  0.00215837  0.00215837  …  0.00215837  0.00215837  0.00215837\n",
       " 0.00215837  0.00215837  0.00215837     0.00215837  0.00215837  0.00215837\n",
       " 0.00215837  0.00215837  0.00215837     0.00215837  0.00215837  0.00215837\n",
       " 0.00215837  0.00215837  0.00215837     0.00215837  0.00215837  0.00215837\n",
       " 0.00215837  0.00215837  0.00215837     0.00215837  0.00215837  0.00215837"
      ]
     },
     "execution_count": 14,
     "metadata": {},
     "output_type": "execute_result"
    }
   ],
   "source": [
    "pm_sub2 = pm[1:10, 1:15]\n",
    "pn_sub2 = pn[1:10, 1:15]"
   ]
  },
  {
   "cell_type": "code",
   "execution_count": 15,
   "id": "c8828e41",
   "metadata": {},
   "outputs": [
    {
     "data": {
      "text/plain": [
       "false"
      ]
     },
     "execution_count": 15,
     "metadata": {},
     "output_type": "execute_result"
    }
   ],
   "source": [
    "ismissing(pm_sub2)"
   ]
  },
  {
   "cell_type": "code",
   "execution_count": 18,
   "id": "289ec4fb",
   "metadata": {},
   "outputs": [
    {
     "data": {
      "text/plain": [
       "10×15 Matrix{Float64}:\n",
       " 0.00249232  0.00249243  0.00249253  …  0.00249358  0.00249368  0.00249379\n",
       " 0.00249232  0.00249243  0.00249253     0.00249358  0.00249368  0.00249379\n",
       " 0.00249232  0.00249243  0.00249253     0.00249358  0.00249368  0.00249379\n",
       " 0.00249232  0.00249243  0.00249253     0.00249358  0.00249368  0.00249379\n",
       " 0.00249232  0.00249243  0.00249253     0.00249358  0.00249368  0.00249379\n",
       " 0.00249232  0.00249243  0.00249253  …  0.00249358  0.00249368  0.00249379\n",
       " 0.00249232  0.00249243  0.00249253     0.00249358  0.00249368  0.00249379\n",
       " 0.00249232  0.00249243  0.00249253     0.00249358  0.00249368  0.00249379\n",
       " 0.00249232  0.00249243  0.00249253     0.00249358  0.00249368  0.00249379\n",
       " 0.00249232  0.00249243  0.00249253     0.00249358  0.00249368  0.00249379"
      ]
     },
     "execution_count": 18,
     "metadata": {},
     "output_type": "execute_result"
    }
   ],
   "source": [
    "convert(Array{Float64}, pm_sub2)"
   ]
  },
  {
   "cell_type": "code",
   "execution_count": null,
   "id": "4bb2c75f",
   "metadata": {},
   "outputs": [],
   "source": []
  }
 ],
 "metadata": {
  "kernelspec": {
   "display_name": "Julia 1.6.2",
   "language": "julia",
   "name": "julia-1.6"
  },
  "language_info": {
   "file_extension": ".jl",
   "mimetype": "application/julia",
   "name": "julia",
   "version": "1.6.2"
  }
 },
 "nbformat": 4,
 "nbformat_minor": 5
}

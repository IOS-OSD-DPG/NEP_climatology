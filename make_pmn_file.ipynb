{
 "cells": [
  {
   "cell_type": "markdown",
   "id": "ce4ab28c",
   "metadata": {},
   "source": [
    "This script was used to calculate the matrices of the inverse of the local resolution for DIVAnd. Some issues were encountered when trying to create netCDF files in Julia:\n",
    "* NCDatasets: Couldn't find a way to assign data to the lon and lat dims, so the netCDF file produced using this package has lon and lat dims with lengths but no contents\n",
    "* NetCDF: Couldn't figure out how to write data to the variables I defined or how to close a dataset object once opened. Also couldn't find documentation on how to write multiple variables to a newly created netCDF object; there were only examples for creating single-variable netCDF files"
   ]
  },
  {
   "cell_type": "code",
   "execution_count": 1,
   "id": "692352d4",
   "metadata": {},
   "outputs": [],
   "source": [
    "using DIVAnd\n",
    "using CSV\n",
    "using NCDatasets\n",
    "using NetCDF\n",
    "using DataStructures"
   ]
  },
  {
   "cell_type": "code",
   "execution_count": 2,
   "id": "9d7da825",
   "metadata": {},
   "outputs": [
    {
     "data": {
      "text/plain": [
       "\"C:\\\\Users\\\\HourstonH\\\\Documents\\\\NEP_climatology\\\\data\\\\value_vs_depth\\\\16_diva_analysis\\\\pmn\\\\\""
      ]
     },
     "execution_count": 2,
     "metadata": {},
     "output_type": "execute_result"
    }
   ],
   "source": [
    "# Calculate the pmn for 0m for all combinations of year/season\n",
    "# Use these pmns for all other depths\n",
    "mask_dir = string(\"C:\\\\Users\\\\HourstonH\\\\Documents\\\\NEP_climatology\\\\data\\\\\",\n",
    "    \"value_vs_depth\\\\16_diva_analysis\\\\masks\\\\\")\n",
    "\n",
    "pmn_dir = string(\"C:\\\\Users\\\\HourstonH\\\\Documents\\\\NEP_climatology\\\\data\\\\\",\n",
    "    \"value_vs_depth\\\\16_diva_analysis\\\\pmn\\\\\")\n",
    "\n",
    "# Use same pmn for all files since they all use the same mask"
   ]
  },
  {
   "cell_type": "code",
   "execution_count": 3,
   "id": "5a85418b",
   "metadata": {
    "scrolled": true
   },
   "outputs": [
    {
     "data": {
      "text/plain": [
       "([0.0024923218319040544 0.0024924265561150263 … 0.004315922292037964 0.004316465456226367; 0.0024923219353162737 0.002492426607209966 … 0.004315922200753765 0.004316465727327514; … ; 0.0024923219353162737 0.002492426607209966 … 0.004315922200753765 0.004316465727327514; 0.0024923218319040544 0.0024924265561150263 … 0.004315922292037964 0.004316465456226367], [0.0021583688291264883 0.002158368805044173 … 0.002158368805044173 0.00215836878381549; 0.0021583688291264883 0.002158368805044173 … 0.002158368805044173 0.00215836878381549; … ; 0.0021583688291264883 0.002158368805044173 … 0.002158368805044173 0.00215836878381549; 0.0021583688291264883 0.002158368805044173 … 0.002158368805044173 0.00215836878381549])"
      ]
     },
     "execution_count": 3,
     "metadata": {},
     "output_type": "execute_result"
    }
   ],
   "source": [
    "# Read in mask\n",
    "mask_filename = string(mask_dir, \"Oxy_0m_1991_JFM_mask_6min.nc\")\n",
    "\n",
    "mask_ds = Dataset(mask_filename)\n",
    "\n",
    "Lon2d, Lat2d = ndgrid(mask_ds[\"lon\"], mask_ds[\"lat\"])\n",
    "\n",
    "# Compute inverse of resolution\n",
    "pm, pn = DIVAnd_metric(Lon2d, Lat2d)"
   ]
  },
  {
   "cell_type": "code",
   "execution_count": 12,
   "id": "6a2c8d45",
   "metadata": {},
   "outputs": [
    {
     "data": {
      "text/plain": [
       "10800×7200 Matrix{Float64}:\n",
       " -159.998  -159.998  -159.998  -159.998  …  -159.998  -159.998  -159.998\n",
       " -159.994  -159.994  -159.994  -159.994     -159.994  -159.994  -159.994\n",
       " -159.99   -159.99   -159.99   -159.99      -159.99   -159.99   -159.99\n",
       " -159.985  -159.985  -159.985  -159.985     -159.985  -159.985  -159.985\n",
       " -159.981  -159.981  -159.981  -159.981     -159.981  -159.981  -159.981\n",
       " -159.977  -159.977  -159.977  -159.977  …  -159.977  -159.977  -159.977\n",
       " -159.973  -159.973  -159.973  -159.973     -159.973  -159.973  -159.973\n",
       " -159.969  -159.969  -159.969  -159.969     -159.969  -159.969  -159.969\n",
       " -159.965  -159.965  -159.965  -159.965     -159.965  -159.965  -159.965\n",
       " -159.96   -159.96   -159.96   -159.96      -159.96   -159.96   -159.96\n",
       " -159.956  -159.956  -159.956  -159.956  …  -159.956  -159.956  -159.956\n",
       " -159.952  -159.952  -159.952  -159.952     -159.952  -159.952  -159.952\n",
       " -159.948  -159.948  -159.948  -159.948     -159.948  -159.948  -159.948\n",
       "    ⋮                                    ⋱                      \n",
       " -115.048  -115.048  -115.048  -115.048     -115.048  -115.048  -115.048\n",
       " -115.044  -115.044  -115.044  -115.044     -115.044  -115.044  -115.044\n",
       " -115.04   -115.04   -115.04   -115.04   …  -115.04   -115.04   -115.04\n",
       " -115.035  -115.035  -115.035  -115.035     -115.035  -115.035  -115.035\n",
       " -115.031  -115.031  -115.031  -115.031     -115.031  -115.031  -115.031\n",
       " -115.027  -115.027  -115.027  -115.027     -115.027  -115.027  -115.027\n",
       " -115.023  -115.023  -115.023  -115.023     -115.023  -115.023  -115.023\n",
       " -115.019  -115.019  -115.019  -115.019  …  -115.019  -115.019  -115.019\n",
       " -115.015  -115.015  -115.015  -115.015     -115.015  -115.015  -115.015\n",
       " -115.01   -115.01   -115.01   -115.01      -115.01   -115.01   -115.01\n",
       " -115.006  -115.006  -115.006  -115.006     -115.006  -115.006  -115.006\n",
       " -115.002  -115.002  -115.002  -115.002     -115.002  -115.002  -115.002"
      ]
     },
     "execution_count": 12,
     "metadata": {},
     "output_type": "execute_result"
    }
   ],
   "source": [
    "Lon2d"
   ]
  },
  {
   "cell_type": "code",
   "execution_count": 5,
   "id": "ec6b008e",
   "metadata": {},
   "outputs": [
    {
     "data": {
      "text/plain": [
       "\u001b[31mNCDataset: C:\\Users\\HourstonH\\Documents\\NEP_climatology\\data\\value_vs_depth\\16_diva_analysis\\pmn\\divand_pmn_for_mask_6min_v2.nc\u001b[39m\n",
       "Group: /\n",
       "\n"
      ]
     },
     "execution_count": 5,
     "metadata": {},
     "output_type": "execute_result"
    }
   ],
   "source": [
    "# Export pmn in netCDF file\n",
    "pmn_ds_filename = string(pmn_dir, \"divand_pmn_for_mask_6min_v2.nc\")\n",
    "pmn_ds = Dataset(pmn_ds_filename, \"c\")  # c stands for create new file"
   ]
  },
  {
   "cell_type": "code",
   "execution_count": 7,
   "id": "35b6696c",
   "metadata": {},
   "outputs": [
    {
     "data": {
      "text/plain": [
       "\u001b[32mpn\u001b[39m (10800 × 7200)\n",
       "  Datatype:    Float64\n",
       "  Dimensions:  lon × lat\n",
       "  Attributes:\n",
       "   longname             = \u001b[36mInverse of the local resolution in the y (latitude) dimension using the mean Earth radius\u001b[39m\n",
       "   units                = \u001b[36mmeters\u001b[39m\n"
      ]
     },
     "execution_count": 7,
     "metadata": {},
     "output_type": "execute_result"
    }
   ],
   "source": [
    "# Define lat and lon dims\n",
    "lon_dim = defDim(pmn_ds, \"lon\", length(mask_ds[\"lon\"]))\n",
    "lat_dim = defDim(pmn_ds, \"lat\", length(mask_ds[\"lat\"]))\n",
    "\n",
    "# # Dictionaries of attributes\n",
    "# lon_atts = Dict(\"longname\" => \"Longitude\", \"units\" => \"degrees east\")\n",
    "# lat_atts = Dict(\"longname\" => \"Latitude\", \"units\" => \"degrees north\")\n",
    "# pm_atts = Dict(\n",
    "#     \"longname\" => \"Inverse of the local resolution in the x (longitude) dimension using the mean Earth radius\", \n",
    "#     \"units\" => \"meters\")\n",
    "# pn_atts = Dict(\n",
    "#     \"longname\" => \"Inverse of the local resolution in the y (latitude) dimension using the mean Earth radius\",\n",
    "#     \"units\" => \"meters\")\n",
    "\n",
    "# lon_dim = NcDim(\"lon\", mask_ds[\"lon\"], lon_atts)\n",
    "# lat_dim = NcDim(\"lat\", mask_ds[\"lat\"], lat_atts)\n",
    "# pm_var = NcVar(\"pm\", [lon_dim, lat_dim]; atts=pm_atts, t=Float32)\n",
    "# pn_var = NcVar(\"pn\", [lon_dim, lat_dim]; atts=pn_atts, t=Float32)\n",
    "\n",
    "# Define variables pm and pn\n",
    "pm_var = defVar(pmn_ds, \"pm\", Float64, (\"lon\", \"lat\"), \n",
    "    attrib=OrderedDict(\n",
    "        \"longname\" => \"Inverse of the local resolution in the x (longitude) dimension using the mean Earth radius\",\n",
    "        \"units\" => \"meters\"))\n",
    "pn_var = defVar(pmn_ds, \"pn\", Float64, (\"lon\", \"lat\"),\n",
    "    attrib=OrderedDict(\n",
    "        \"longname\" => \"Inverse of the local resolution in the y (latitude) dimension using the mean Earth radius\",\n",
    "        \"units\" => \"meters\"))"
   ]
  },
  {
   "cell_type": "code",
   "execution_count": 8,
   "id": "38f6e15f",
   "metadata": {},
   "outputs": [
    {
     "ename": "LoadError",
     "evalue": "MethodError: no method matching setindex!(::Nothing, ::Vector{Union{Missing, Float64}}, ::Colon)",
     "output_type": "error",
     "traceback": [
      "MethodError: no method matching setindex!(::Nothing, ::Vector{Union{Missing, Float64}}, ::Colon)",
      "",
      "Stacktrace:",
      " [1] top-level scope",
      "   @ In[8]:2",
      " [2] eval",
      "   @ .\\boot.jl:360 [inlined]",
      " [3] include_string(mapexpr::typeof(REPL.softscope), mod::Module, code::String, filename::String)",
      "   @ Base .\\loading.jl:1116"
     ]
    }
   ],
   "source": [
    "# How to add data to the dims?\n",
    "# lon_dim[:] = mask_ds[\"lon\"][:]\n",
    "# lat_dim[:] = mask_ds[\"lat\"][:]\n",
    "\n",
    "# NetCDF.create(pmn_ds_filename, [pm, pn]) do nc\n",
    "#       # Writing data to the file is done using putvar\n",
    "#     NetCDF.putvar(nc, \"pm\", pm)\n",
    "#     NetCDF.putvar(nc, \"pn\", pn)\n",
    "# end\n",
    "\n",
    "# NetCDF.open(pmn_ds_filename, mode=NC_WRITE) do nc\n",
    "#     # Writing data to the file is done using putvar\n",
    "#      NetCDF.putvar(nc, \"pm\", pm)\n",
    "# #     NetCDF.putvar(nc, \"pn\", pn)\n",
    "# end\n",
    "\n",
    "# Open it again to write another var (pn)\n",
    "# NetCDF.open(pmn_ds_filename, mode=NC_WRITE) do nc\n",
    "#     NetCDF.putvar(nc, \"pn\", pn)\n",
    "# end\n",
    "\n",
    "# Writing data to the file is done using putvar\n",
    "# ncout = NetCDF.putvar(nc, \"pm\", pm)\n",
    "# ncout = NetCDF.putvar(nc, \"pn\", pn)"
   ]
  },
  {
   "cell_type": "code",
   "execution_count": 9,
   "id": "139ac023",
   "metadata": {},
   "outputs": [
    {
     "data": {
      "text/plain": [
       "10800×7200 Matrix{Float64}:\n",
       " 0.00215837  0.00215837  0.00215837  …  0.00215837  0.00215837  0.00215837\n",
       " 0.00215837  0.00215837  0.00215837     0.00215837  0.00215837  0.00215837\n",
       " 0.00215837  0.00215837  0.00215837     0.00215837  0.00215837  0.00215837\n",
       " 0.00215837  0.00215837  0.00215837     0.00215837  0.00215837  0.00215837\n",
       " 0.00215837  0.00215837  0.00215837     0.00215837  0.00215837  0.00215837\n",
       " 0.00215837  0.00215837  0.00215837  …  0.00215837  0.00215837  0.00215837\n",
       " 0.00215837  0.00215837  0.00215837     0.00215837  0.00215837  0.00215837\n",
       " 0.00215837  0.00215837  0.00215837     0.00215837  0.00215837  0.00215837\n",
       " 0.00215837  0.00215837  0.00215837     0.00215837  0.00215837  0.00215837\n",
       " 0.00215837  0.00215837  0.00215837     0.00215837  0.00215837  0.00215837\n",
       " 0.00215837  0.00215837  0.00215837  …  0.00215837  0.00215837  0.00215837\n",
       " 0.00215837  0.00215837  0.00215837     0.00215837  0.00215837  0.00215837\n",
       " 0.00215837  0.00215837  0.00215837     0.00215837  0.00215837  0.00215837\n",
       " ⋮                                   ⋱                          \n",
       " 0.00215837  0.00215837  0.00215837     0.00215837  0.00215837  0.00215837\n",
       " 0.00215837  0.00215837  0.00215837     0.00215837  0.00215837  0.00215837\n",
       " 0.00215837  0.00215837  0.00215837  …  0.00215837  0.00215837  0.00215837\n",
       " 0.00215837  0.00215837  0.00215837     0.00215837  0.00215837  0.00215837\n",
       " 0.00215837  0.00215837  0.00215837     0.00215837  0.00215837  0.00215837\n",
       " 0.00215837  0.00215837  0.00215837     0.00215837  0.00215837  0.00215837\n",
       " 0.00215837  0.00215837  0.00215837     0.00215837  0.00215837  0.00215837\n",
       " 0.00215837  0.00215837  0.00215837  …  0.00215837  0.00215837  0.00215837\n",
       " 0.00215837  0.00215837  0.00215837     0.00215837  0.00215837  0.00215837\n",
       " 0.00215837  0.00215837  0.00215837     0.00215837  0.00215837  0.00215837\n",
       " 0.00215837  0.00215837  0.00215837     0.00215837  0.00215837  0.00215837\n",
       " 0.00215837  0.00215837  0.00215837     0.00215837  0.00215837  0.00215837"
      ]
     },
     "execution_count": 9,
     "metadata": {},
     "output_type": "execute_result"
    }
   ],
   "source": [
    "# Assign data to pm and pn vars\n",
    "pm_var[:,:] = pm\n",
    "pn_var[:,:] = pn"
   ]
  },
  {
   "cell_type": "code",
   "execution_count": 16,
   "id": "5584fc82",
   "metadata": {
    "scrolled": true
   },
   "outputs": [
    {
     "data": {
      "text/plain": [
       "closed NetCDF NCDataset"
      ]
     },
     "execution_count": 16,
     "metadata": {},
     "output_type": "execute_result"
    }
   ],
   "source": [
    "# Close netCDF file\n",
    "close(pmn_ds)\n",
    "\n",
    "# NetCDF.close(ncout)"
   ]
  },
  {
   "cell_type": "markdown",
   "id": "c555e099",
   "metadata": {},
   "source": [
    "Add lon and lat 2d mesh grid data to the pmn netCDF file as an afterthought, since the lon and lat dims are not filled with the right data."
   ]
  },
  {
   "cell_type": "code",
   "execution_count": 17,
   "id": "ced32015",
   "metadata": {},
   "outputs": [
    {
     "data": {
      "text/plain": [
       "\u001b[31mNCDataset: C:\\Users\\HourstonH\\Documents\\NEP_climatology\\data\\value_vs_depth\\16_diva_analysis\\pmn\\divand_pmn_for_mask_6min_v2.nc\u001b[39m\n",
       "Group: /\n",
       "\n",
       "\u001b[31mDimensions\u001b[39m\n",
       "   lon = 10800\n",
       "   lat = 7200\n",
       "\n",
       "\u001b[31mVariables\u001b[39m\n",
       "\u001b[32m  pm\u001b[39m   (10800 × 7200)\n",
       "    Datatype:    Float64\n",
       "    Dimensions:  lon × lat\n",
       "    Attributes:\n",
       "     longname             = \u001b[36mInverse of the local resolution in the x (longitude) dimension using the mean Earth radius\u001b[39m\n",
       "     units                = \u001b[36mmeters\u001b[39m\n",
       "\n",
       "\u001b[32m  pn\u001b[39m   (10800 × 7200)\n",
       "    Datatype:    Float64\n",
       "    Dimensions:  lon × lat\n",
       "    Attributes:\n",
       "     longname             = \u001b[36mInverse of the local resolution in the y (latitude) dimension using the mean Earth radius\u001b[39m\n",
       "     units                = \u001b[36mmeters\u001b[39m\n",
       "\n"
      ]
     },
     "execution_count": 17,
     "metadata": {},
     "output_type": "execute_result"
    }
   ],
   "source": [
    "# Add meshgrid lon and lat to the pmn netCDF file\n",
    "pmn_ds_filename = string(pmn_dir, \"divand_pmn_for_mask_6min_v2.nc\")\n",
    "\n",
    "pmn_ds = Dataset(pmn_ds_filename, \"a\")"
   ]
  },
  {
   "cell_type": "code",
   "execution_count": 19,
   "id": "3a52e52d",
   "metadata": {},
   "outputs": [
    {
     "data": {
      "text/plain": [
       "\u001b[32mlat2d\u001b[39m (10800 × 7200)\n",
       "  Datatype:    Float64\n",
       "  Dimensions:  lon × lat\n",
       "  Attributes:\n",
       "   longname             = \u001b[36mLatitude\u001b[39m\n",
       "   units                = \u001b[36mdegrees north\u001b[39m\n"
      ]
     },
     "execution_count": 19,
     "metadata": {},
     "output_type": "execute_result"
    }
   ],
   "source": [
    "lon2d_var = defVar(pmn_ds, \"lon2d\", Float64, (\"lon\", \"lat\"),\n",
    "    attrib=OrderedDict(\"longname\" => \"Longitude\", \"units\" => \"degrees east\"))\n",
    "\n",
    "lat2d_var = defVar(pmn_ds, \"lat2d\", Float64, (\"lon\",\"lat\"),\n",
    "    attrib=OrderedDict(\"longname\" => \"Latitude\", \"units\" => \"degrees north\"))"
   ]
  },
  {
   "cell_type": "code",
   "execution_count": 20,
   "id": "a0d34c06",
   "metadata": {},
   "outputs": [
    {
     "data": {
      "text/plain": [
       "10800×7200 Matrix{Float64}:\n",
       " 30.0021  30.0062  30.0104  30.0146  …  59.9854  59.9896  59.9938  59.9979\n",
       " 30.0021  30.0062  30.0104  30.0146     59.9854  59.9896  59.9938  59.9979\n",
       " 30.0021  30.0062  30.0104  30.0146     59.9854  59.9896  59.9938  59.9979\n",
       " 30.0021  30.0062  30.0104  30.0146     59.9854  59.9896  59.9938  59.9979\n",
       " 30.0021  30.0062  30.0104  30.0146     59.9854  59.9896  59.9938  59.9979\n",
       " 30.0021  30.0062  30.0104  30.0146  …  59.9854  59.9896  59.9938  59.9979\n",
       " 30.0021  30.0062  30.0104  30.0146     59.9854  59.9896  59.9938  59.9979\n",
       " 30.0021  30.0062  30.0104  30.0146     59.9854  59.9896  59.9938  59.9979\n",
       " 30.0021  30.0062  30.0104  30.0146     59.9854  59.9896  59.9938  59.9979\n",
       " 30.0021  30.0062  30.0104  30.0146     59.9854  59.9896  59.9938  59.9979\n",
       " 30.0021  30.0062  30.0104  30.0146  …  59.9854  59.9896  59.9938  59.9979\n",
       " 30.0021  30.0062  30.0104  30.0146     59.9854  59.9896  59.9938  59.9979\n",
       " 30.0021  30.0062  30.0104  30.0146     59.9854  59.9896  59.9938  59.9979\n",
       "  ⋮                                  ⋱                             \n",
       " 30.0021  30.0062  30.0104  30.0146     59.9854  59.9896  59.9938  59.9979\n",
       " 30.0021  30.0062  30.0104  30.0146     59.9854  59.9896  59.9938  59.9979\n",
       " 30.0021  30.0062  30.0104  30.0146  …  59.9854  59.9896  59.9938  59.9979\n",
       " 30.0021  30.0062  30.0104  30.0146     59.9854  59.9896  59.9938  59.9979\n",
       " 30.0021  30.0062  30.0104  30.0146     59.9854  59.9896  59.9938  59.9979\n",
       " 30.0021  30.0062  30.0104  30.0146     59.9854  59.9896  59.9938  59.9979\n",
       " 30.0021  30.0062  30.0104  30.0146     59.9854  59.9896  59.9938  59.9979\n",
       " 30.0021  30.0062  30.0104  30.0146  …  59.9854  59.9896  59.9938  59.9979\n",
       " 30.0021  30.0062  30.0104  30.0146     59.9854  59.9896  59.9938  59.9979\n",
       " 30.0021  30.0062  30.0104  30.0146     59.9854  59.9896  59.9938  59.9979\n",
       " 30.0021  30.0062  30.0104  30.0146     59.9854  59.9896  59.9938  59.9979\n",
       " 30.0021  30.0062  30.0104  30.0146     59.9854  59.9896  59.9938  59.9979"
      ]
     },
     "execution_count": 20,
     "metadata": {},
     "output_type": "execute_result"
    }
   ],
   "source": [
    "lon2d_var[:,:] = Lon2d\n",
    "lat2d_var[:,:] = Lat2d"
   ]
  },
  {
   "cell_type": "code",
   "execution_count": 14,
   "id": "67dd2fe4",
   "metadata": {},
   "outputs": [
    {
     "data": {
      "text/plain": [
       "10800×7200 Matrix{Float64}:\n",
       " -159.998  -159.998  -159.998  -159.998  …  -159.998  -159.998  -159.998\n",
       " -159.994  -159.994  -159.994  -159.994     -159.994  -159.994  -159.994\n",
       " -159.99   -159.99   -159.99   -159.99      -159.99   -159.99   -159.99\n",
       " -159.985  -159.985  -159.985  -159.985     -159.985  -159.985  -159.985\n",
       " -159.981  -159.981  -159.981  -159.981     -159.981  -159.981  -159.981\n",
       " -159.977  -159.977  -159.977  -159.977  …  -159.977  -159.977  -159.977\n",
       " -159.973  -159.973  -159.973  -159.973     -159.973  -159.973  -159.973\n",
       " -159.969  -159.969  -159.969  -159.969     -159.969  -159.969  -159.969\n",
       " -159.965  -159.965  -159.965  -159.965     -159.965  -159.965  -159.965\n",
       " -159.96   -159.96   -159.96   -159.96      -159.96   -159.96   -159.96\n",
       " -159.956  -159.956  -159.956  -159.956  …  -159.956  -159.956  -159.956\n",
       " -159.952  -159.952  -159.952  -159.952     -159.952  -159.952  -159.952\n",
       " -159.948  -159.948  -159.948  -159.948     -159.948  -159.948  -159.948\n",
       "    ⋮                                    ⋱                      \n",
       " -115.048  -115.048  -115.048  -115.048     -115.048  -115.048  -115.048\n",
       " -115.044  -115.044  -115.044  -115.044     -115.044  -115.044  -115.044\n",
       " -115.04   -115.04   -115.04   -115.04   …  -115.04   -115.04   -115.04\n",
       " -115.035  -115.035  -115.035  -115.035     -115.035  -115.035  -115.035\n",
       " -115.031  -115.031  -115.031  -115.031     -115.031  -115.031  -115.031\n",
       " -115.027  -115.027  -115.027  -115.027     -115.027  -115.027  -115.027\n",
       " -115.023  -115.023  -115.023  -115.023     -115.023  -115.023  -115.023\n",
       " -115.019  -115.019  -115.019  -115.019  …  -115.019  -115.019  -115.019\n",
       " -115.015  -115.015  -115.015  -115.015     -115.015  -115.015  -115.015\n",
       " -115.01   -115.01   -115.01   -115.01      -115.01   -115.01   -115.01\n",
       " -115.006  -115.006  -115.006  -115.006     -115.006  -115.006  -115.006\n",
       " -115.002  -115.002  -115.002  -115.002     -115.002  -115.002  -115.002"
      ]
     },
     "execution_count": 14,
     "metadata": {},
     "output_type": "execute_result"
    }
   ],
   "source": [
    "Lon2d[:,:]"
   ]
  },
  {
   "cell_type": "code",
   "execution_count": 21,
   "id": "34d85213",
   "metadata": {},
   "outputs": [
    {
     "data": {
      "text/plain": [
       "closed NetCDF NCDataset"
      ]
     },
     "execution_count": 21,
     "metadata": {},
     "output_type": "execute_result"
    }
   ],
   "source": [
    "close(pmn_ds)"
   ]
  },
  {
   "cell_type": "markdown",
   "id": "0daf3a45",
   "metadata": {},
   "source": [
    "## Testing code"
   ]
  },
  {
   "cell_type": "code",
   "execution_count": 20,
   "id": "c6cdb779",
   "metadata": {},
   "outputs": [
    {
     "data": {
      "text/plain": [
       "([30 30 30 30; 45 45 45 45; 60 60 60 60], [-160 -145 -130 -115; -160 -145 -130 -115; -160 -145 -130 -115])"
      ]
     },
     "execution_count": 20,
     "metadata": {},
     "output_type": "execute_result"
    }
   ],
   "source": [
    "lat, lon = ndgrid([30, 45, 60], [-160, -145, -130, -115])"
   ]
  },
  {
   "cell_type": "code",
   "execution_count": 21,
   "id": "8778e5c0",
   "metadata": {},
   "outputs": [
    {
     "data": {
      "text/plain": [
       "3×4 Matrix{Int64}:\n",
       " -160  -145  -130  -115\n",
       " -160  -145  -130  -115\n",
       " -160  -145  -130  -115"
      ]
     },
     "execution_count": 21,
     "metadata": {},
     "output_type": "execute_result"
    }
   ],
   "source": [
    "lon"
   ]
  },
  {
   "cell_type": "code",
   "execution_count": 22,
   "id": "3fa6b2f7",
   "metadata": {},
   "outputs": [
    {
     "data": {
      "text/plain": [
       "3×4 Matrix{Int64}:\n",
       " 30  30  30  30\n",
       " 45  45  45  45\n",
       " 60  60  60  60"
      ]
     },
     "execution_count": 22,
     "metadata": {},
     "output_type": "execute_result"
    }
   ],
   "source": [
    "lat"
   ]
  },
  {
   "cell_type": "code",
   "execution_count": 23,
   "id": "9187f903",
   "metadata": {},
   "outputs": [
    {
     "data": {
      "text/plain": [
       "4-element Vector{Int64}:\n",
       " 30\n",
       " 30\n",
       " 30\n",
       " 30"
      ]
     },
     "execution_count": 23,
     "metadata": {},
     "output_type": "execute_result"
    }
   ],
   "source": [
    "lat[1,:]"
   ]
  },
  {
   "cell_type": "code",
   "execution_count": 24,
   "id": "e2d56829",
   "metadata": {},
   "outputs": [
    {
     "data": {
      "text/plain": [
       "4-element Vector{Int64}:\n",
       " -160\n",
       " -145\n",
       " -130\n",
       " -115"
      ]
     },
     "execution_count": 24,
     "metadata": {},
     "output_type": "execute_result"
    }
   ],
   "source": [
    "lon[1,:]"
   ]
  },
  {
   "cell_type": "code",
   "execution_count": 15,
   "id": "6508669e",
   "metadata": {},
   "outputs": [
    {
     "data": {
      "text/plain": [
       "\u001b[31mNCDataset: C:\\Users\\HourstonH\\Documents\\NEP_climatology\\data\\value_vs_depth\\16_diva_analysis\\pmn\\divand_pmn_for_mask_6min_v2.nc\u001b[39m\n",
       "Group: /\n",
       "\n",
       "\u001b[31mDimensions\u001b[39m\n",
       "   lon = 10800\n",
       "   lat = 7200\n",
       "\n",
       "\u001b[31mVariables\u001b[39m\n",
       "\u001b[32m  pm\u001b[39m   (10800 × 7200)\n",
       "    Datatype:    Float64\n",
       "    Dimensions:  lon × lat\n",
       "    Attributes:\n",
       "     longname             = \u001b[36mInverse of the local resolution in the x (longitude) dimension using the mean Earth radius\u001b[39m\n",
       "     units                = \u001b[36mmeters\u001b[39m\n",
       "\n",
       "\u001b[32m  pn\u001b[39m   (10800 × 7200)\n",
       "    Datatype:    Float64\n",
       "    Dimensions:  lon × lat\n",
       "    Attributes:\n",
       "     longname             = \u001b[36mInverse of the local resolution in the y (latitude) dimension using the mean Earth radius\u001b[39m\n",
       "     units                = \u001b[36mmeters\u001b[39m\n",
       "\n"
      ]
     },
     "execution_count": 15,
     "metadata": {},
     "output_type": "execute_result"
    }
   ],
   "source": [
    "pmn_ds"
   ]
  },
  {
   "cell_type": "code",
   "execution_count": null,
   "id": "5ad80290",
   "metadata": {},
   "outputs": [],
   "source": []
  }
 ],
 "metadata": {
  "kernelspec": {
   "display_name": "Julia 1.6.2",
   "language": "julia",
   "name": "julia-1.6"
  },
  "language_info": {
   "file_extension": ".jl",
   "mimetype": "application/julia",
   "name": "julia",
   "version": "1.6.2"
  }
 },
 "nbformat": 4,
 "nbformat_minor": 5
}
